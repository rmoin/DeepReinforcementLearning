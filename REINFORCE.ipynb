{
 "cells": [
  {
   "cell_type": "markdown",
   "metadata": {},
   "source": [
    "# REINFORCE\n",
    "\n",
    "---\n",
    "\n",
    "In this notebook, we will train REINFORCE with OpenAI Gym's Cartpole environment."
   ]
  },
  {
   "cell_type": "markdown",
   "metadata": {},
   "source": [
    "### 1. Import the Necessary Packages"
   ]
  },
  {
   "cell_type": "code",
   "execution_count": 18,
   "metadata": {},
   "outputs": [
    {
     "name": "stdout",
     "output_type": "stream",
     "text": [
      "Requirement already satisfied: pyvirtualdisplay in /opt/miniconda3/envs/drlnd/lib/python3.6/site-packages (0.2.5)\r\n",
      "Requirement already satisfied: EasyProcess in /opt/miniconda3/envs/drlnd/lib/python3.6/site-packages (from pyvirtualdisplay) (0.3)\r\n"
     ]
    }
   ],
   "source": [
    "import gym\n",
    "gym.logger.set_level(40) # suppress warnings (please remove if gives error)\n",
    "import numpy as np\n",
    "from collections import deque\n",
    "import matplotlib.pyplot as plt\n",
    "%matplotlib inline\n",
    "\n",
    "import torch\n",
    "torch.manual_seed(0) # set random seed\n",
    "import torch.nn as nn\n",
    "import torch.nn.functional as F\n",
    "import torch.optim as optim\n",
    "from torch.distributions import Categorical\n",
    "\n",
    "!python -m pip install pyvirtualdisplay\n",
    "from pyvirtualdisplay import Display\n",
    "display = Display(visible=0, size=(1400, 900))\n",
    "display.start()\n",
    "\n",
    "is_ipython = 'inline' in plt.get_backend()\n",
    "if is_ipython:\n",
    "    from IPython import display\n",
    "\n",
    "plt.ion()"
   ]
  },
  {
   "cell_type": "markdown",
   "metadata": {},
   "source": [
    "### 2. Define the Architecture of the Policy"
   ]
  },
  {
   "cell_type": "code",
   "execution_count": 19,
   "metadata": {},
   "outputs": [
    {
     "name": "stdout",
     "output_type": "stream",
     "text": [
      "observation space: Box(4,)\n",
      "action space: Discrete(2)\n"
     ]
    }
   ],
   "source": [
    "env = gym.make('CartPole-v0')\n",
    "env.seed(0)\n",
    "print('observation space:', env.observation_space)\n",
    "print('action space:', env.action_space)\n",
    "\n",
    "device = torch.device(\"cuda:0\" if torch.cuda.is_available() else \"cpu\")\n",
    "\n",
    "class Policy(nn.Module):\n",
    "    def __init__(self, s_size=4, h_size=16, a_size=2):\n",
    "        super(Policy, self).__init__()\n",
    "        self.fc1 = nn.Linear(s_size, h_size)\n",
    "        self.fc2 = nn.Linear(h_size, a_size)\n",
    "\n",
    "    def forward(self, x):\n",
    "        x = F.relu(self.fc1(x))\n",
    "        x = self.fc2(x)\n",
    "        return F.softmax(x, dim=1)\n",
    "    \n",
    "    def act(self, state):\n",
    "        state = torch.from_numpy(state).float().unsqueeze(0).to(device)\n",
    "        probs = self.forward(state).cpu()\n",
    "        m = Categorical(probs)\n",
    "        action = m.sample()\n",
    "        return action.item(), m.log_prob(action)"
   ]
  },
  {
   "cell_type": "code",
   "execution_count": 24,
   "metadata": {},
   "outputs": [
    {
     "name": "stdout",
     "output_type": "stream",
     "text": [
      "Policy(\n",
      "  (fc1): Linear(in_features=4, out_features=16, bias=True)\n",
      "  (fc2): Linear(in_features=16, out_features=2, bias=True)\n",
      ")\n",
      "action: 0 - log_prob: tensor([-0.5448]) \n",
      "state: [-0.00384741 -0.15415638 -0.04506642  0.32006918]\n",
      "reward: 1.0\n",
      "action: 1 - log_prob: tensor([-0.8489]) \n",
      "state: [-0.00693053  0.04157745 -0.03866504  0.0135215 ]\n",
      "reward: 1.0\n",
      "action: 0 - log_prob: tensor([-0.5423]) \n",
      "state: [-0.00609898 -0.15296928 -0.03839461  0.29375879]\n",
      "reward: 1.0\n",
      "action: 0 - log_prob: tensor([-0.5571]) \n",
      "state: [-0.00915837 -0.34752339 -0.03251943  0.57408965]\n",
      "reward: 1.0\n",
      "action: 0 - log_prob: tensor([-0.5565]) \n",
      "state: [-0.01610884 -0.54217469 -0.02103764  0.8563532 ]\n",
      "reward: 1.0\n",
      "action: 0 - log_prob: tensor([-0.5554]) \n",
      "state: [-0.02695233 -0.73700377 -0.00391057  1.14234753]\n",
      "reward: 1.0\n",
      "action: 1 - log_prob: tensor([-0.8546]) \n",
      "state: [-0.04169241 -0.54183093  0.01893638  0.84844081]\n",
      "reward: 1.0\n",
      "action: 0 - log_prob: tensor([-0.5554]) \n",
      "state: [-0.05252903 -0.73720597  0.03590519  1.14701778]\n",
      "reward: 1.0\n",
      "action: 0 - log_prob: tensor([-0.5544]) \n",
      "state: [-0.06727314 -0.93277789  0.05884555  1.45074045]\n",
      "reward: 1.0\n",
      "action: 0 - log_prob: tensor([-0.5548]) \n",
      "state: [-0.0859287  -1.12857152  0.08786036  1.76121315]\n",
      "reward: 1.0\n",
      "action: 1 - log_prob: tensor([-0.8533]) \n",
      "state: [-0.10850013 -0.9345469   0.12308462  1.49709656]\n",
      "reward: 1.0\n",
      "action: 0 - log_prob: tensor([-0.5557]) \n",
      "state: [-0.12719107 -1.13093123  0.15302655  1.82554005]\n",
      "reward: 1.0\n",
      "action: 0 - log_prob: tensor([-0.5560]) \n",
      "state: [-0.1498097  -1.32738412  0.18953735  2.16159026]\n",
      "reward: 1.0\n",
      "action: 0 - log_prob: tensor([-0.5564]) \n",
      "state: [-0.17635738 -1.52379071  0.23276916  2.50631506]\n",
      "reward: 1.0\n"
     ]
    }
   ],
   "source": [
    "## some test code\n",
    "## Don't run this cell unless you want to test\n",
    "policy = Policy().to(device)\n",
    "\n",
    "print(policy)\n",
    "\n",
    "saved_log_probs = []\n",
    "rewards = []\n",
    "state = env.reset()\n",
    "for t in range(30):\n",
    "    action, log_prob = policy.act(state)\n",
    "    saved_log_probs.append(log_prob)\n",
    "    print(\"action: {} - log_prob: {} \".format(action, log_prob))\n",
    "    state, reward, done, _ = env.step(action)\n",
    "    print(\"state: {}\".format(state))\n",
    "    print(\"reward: {}\".format(reward))\n",
    "    rewards.append(reward)\n",
    "    if done:\n",
    "        break"
   ]
  },
  {
   "cell_type": "markdown",
   "metadata": {},
   "source": [
    "### 3. Train the Agent with REINFORCE"
   ]
  },
  {
   "cell_type": "code",
   "execution_count": 27,
   "metadata": {},
   "outputs": [
    {
     "name": "stdout",
     "output_type": "stream",
     "text": [
      "Episode 100\tAverage Score: 32.00\n",
      "Episode 200\tAverage Score: 65.08\n",
      "Episode 300\tAverage Score: 59.34\n",
      "Episode 400\tAverage Score: 58.88\n",
      "Episode 500\tAverage Score: 59.70\n",
      "Episode 600\tAverage Score: 65.22\n",
      "Episode 700\tAverage Score: 74.79\n",
      "Episode 800\tAverage Score: 93.94\n",
      "Episode 900\tAverage Score: 52.78\n",
      "Episode 1000\tAverage Score: 80.86\n"
     ]
    }
   ],
   "source": [
    "policy = Policy().to(device)\n",
    "optimizer = optim.Adam(policy.parameters(), lr=1e-2)\n",
    "\n",
    "def reinforce(n_episodes=1000, max_t=1000, gamma=1.0, print_every=100):\n",
    "    scores_deque = deque(maxlen=100)\n",
    "    scores = []\n",
    "    for i_episode in range(1, n_episodes+1):\n",
    "        saved_log_probs = []\n",
    "        rewards = []\n",
    "        state = env.reset()\n",
    "        for t in range(max_t):\n",
    "            action, log_prob = policy.act(state)\n",
    "            saved_log_probs.append(log_prob)\n",
    "            state, reward, done, _ = env.step(action)\n",
    "            rewards.append(reward)\n",
    "            if done:\n",
    "                break \n",
    "        scores_deque.append(sum(rewards))\n",
    "        scores.append(sum(rewards))\n",
    "        \n",
    "        discounts = [gamma**i for i in range(len(rewards)+1)] #Discount expression builder\n",
    "        R = sum([a*b for a,b in zip(discounts, rewards)])     #Discounted total reward for this episode\n",
    "        \n",
    "        policy_loss = []\n",
    "        for log_prob in saved_log_probs:\n",
    "            policy_loss.append(-log_prob * R)       \n",
    "        policy_loss = torch.cat(policy_loss).sum()  #Policy gradient in this episode\n",
    "        \n",
    "        #print(\"policy_loss\")\n",
    "        #print(policy_loss)\n",
    "        \n",
    "        #Update the weights of the policy now\n",
    "        optimizer.zero_grad()\n",
    "        policy_loss.backward()  \n",
    "        optimizer.step()\n",
    "        \n",
    "        if i_episode % print_every == 0:\n",
    "            print('Episode {}\\tAverage Score: {:.2f}'.format(i_episode, np.mean(scores_deque)))\n",
    "        if np.mean(scores_deque)>=195.0:\n",
    "            print('Environment solved in {:d} episodes!\\tAverage Score: {:.2f}'.format(i_episode-100, np.mean(scores_deque)))\n",
    "            break\n",
    "        \n",
    "    return scores\n",
    "    \n",
    "scores = reinforce()"
   ]
  },
  {
   "cell_type": "markdown",
   "metadata": {},
   "source": [
    "### 4. Plot the Scores"
   ]
  },
  {
   "cell_type": "code",
   "execution_count": 28,
   "metadata": {
    "scrolled": true
   },
   "outputs": [
    {
     "data": {
      "image/png": "[encoded data removed]",
      "text/plain": [
       "<Figure size 432x288 with 1 Axes>"
      ]
     },
     "metadata": {
      "needs_background": "light"
     },
     "output_type": "display_data"
    }
   ],
   "source": [
    "fig = plt.figure()\n",
    "ax = fig.add_subplot(111)\n",
    "plt.plot(np.arange(1, len(scores)+1), scores)\n",
    "plt.ylabel('Score')\n",
    "plt.xlabel('Episode #')\n",
    "plt.show()"
   ]
  },
  {
   "cell_type": "markdown",
   "metadata": {},
   "source": [
    "### 5. Watch a Smart Agent!"
   ]
  },
  {
   "cell_type": "code",
   "execution_count": 29,
   "metadata": {},
   "outputs": [
    {
     "data": {
      "image/png": "[encoded data removed]",
      "text/plain": [
       "<Figure size 432x288 with 1 Axes>"
      ]
     },
     "metadata": {
      "needs_background": "light"
     },
     "output_type": "display_data"
    }
   ],
   "source": [
    "env = gym.make('CartPole-v0')\n",
    "\n",
    "state = env.reset()\n",
    "img = plt.imshow(env.render(mode='rgb_array'))\n",
    "for t in range(1000):\n",
    "    action, _ = policy.act(state)\n",
    "    img.set_data(env.render(mode='rgb_array')) \n",
    "    plt.axis('off')\n",
    "    display.display(plt.gcf())\n",
    "    display.clear_output(wait=True)\n",
    "    state, reward, done, _ = env.step(action)\n",
    "    if done:\n",
    "        break \n",
    "\n",
    "env.close()"
   ]
  },
  {
   "cell_type": "code",
   "execution_count": null,
   "metadata": {},
   "outputs": [],
   "source": []
  }
 ],
 "metadata": {
  "anaconda-cloud": {},
  "kernelspec": {
   "display_name": "Python 3",
   "language": "python",
   "name": "python3"
  },
  "language_info": {
   "codemirror_mode": {
    "name": "ipython",
    "version": 3
   },
   "file_extension": ".py",
   "mimetype": "text/x-python",
   "name": "python",
   "nbconvert_exporter": "python",
   "pygments_lexer": "ipython3",
   "version": "3.6.10"
  }
 },
 "nbformat": 4,
 "nbformat_minor": 2
}
